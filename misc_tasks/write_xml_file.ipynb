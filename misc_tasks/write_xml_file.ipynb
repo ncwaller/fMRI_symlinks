{
 "cells": [
  {
   "cell_type": "markdown",
   "metadata": {},
   "source": [
    "## Write XML File Body\n",
    "##### Short script to take .csv file of label index, coordinates (x, y, z), and label name (columns A - E) and write to .xml file format (ideal for atlas creation and viewing through FSLeyes)"
   ]
  },
  {
   "cell_type": "code",
   "execution_count": 1,
   "metadata": {},
   "outputs": [],
   "source": [
    "import pandas as pd"
   ]
  },
  {
   "cell_type": "code",
   "execution_count": 4,
   "metadata": {},
   "outputs": [
    {
     "data": {
      "text/html": [
       "<div>\n",
       "<style scoped>\n",
       "    .dataframe tbody tr th:only-of-type {\n",
       "        vertical-align: middle;\n",
       "    }\n",
       "\n",
       "    .dataframe tbody tr th {\n",
       "        vertical-align: top;\n",
       "    }\n",
       "\n",
       "    .dataframe thead th {\n",
       "        text-align: right;\n",
       "    }\n",
       "</style>\n",
       "<table border=\"1\" class=\"dataframe\">\n",
       "  <thead>\n",
       "    <tr style=\"text-align: right;\">\n",
       "      <th></th>\n",
       "      <th>A</th>\n",
       "      <th>B</th>\n",
       "      <th>C</th>\n",
       "      <th>D</th>\n",
       "      <th>E</th>\n",
       "    </tr>\n",
       "  </thead>\n",
       "  <tbody>\n",
       "    <tr>\n",
       "      <th>0</th>\n",
       "      <td>1</td>\n",
       "      <td>-24</td>\n",
       "      <td>-54</td>\n",
       "      <td>-10</td>\n",
       "      <td>7Networks_LH_Vis_1</td>\n",
       "    </tr>\n",
       "    <tr>\n",
       "      <th>1</th>\n",
       "      <td>2</td>\n",
       "      <td>-26</td>\n",
       "      <td>-78</td>\n",
       "      <td>-14</td>\n",
       "      <td>7Networks_LH_Vis_2</td>\n",
       "    </tr>\n",
       "    <tr>\n",
       "      <th>2</th>\n",
       "      <td>3</td>\n",
       "      <td>-46</td>\n",
       "      <td>-70</td>\n",
       "      <td>-8</td>\n",
       "      <td>7Networks_LH_Vis_3</td>\n",
       "    </tr>\n",
       "    <tr>\n",
       "      <th>3</th>\n",
       "      <td>4</td>\n",
       "      <td>-10</td>\n",
       "      <td>-68</td>\n",
       "      <td>-4</td>\n",
       "      <td>7Networks_LH_Vis_4</td>\n",
       "    </tr>\n",
       "    <tr>\n",
       "      <th>4</th>\n",
       "      <td>5</td>\n",
       "      <td>-26</td>\n",
       "      <td>-96</td>\n",
       "      <td>-12</td>\n",
       "      <td>7Networks_LH_Vis_5</td>\n",
       "    </tr>\n",
       "    <tr>\n",
       "      <th>...</th>\n",
       "      <td>...</td>\n",
       "      <td>...</td>\n",
       "      <td>...</td>\n",
       "      <td>...</td>\n",
       "      <td>...</td>\n",
       "    </tr>\n",
       "    <tr>\n",
       "      <th>195</th>\n",
       "      <td>196</td>\n",
       "      <td>28</td>\n",
       "      <td>30</td>\n",
       "      <td>42</td>\n",
       "      <td>7Networks_RH_Default_PFCdPFCm_6</td>\n",
       "    </tr>\n",
       "    <tr>\n",
       "      <th>196</th>\n",
       "      <td>197</td>\n",
       "      <td>24</td>\n",
       "      <td>24</td>\n",
       "      <td>54</td>\n",
       "      <td>7Networks_RH_Default_PFCdPFCm_7</td>\n",
       "    </tr>\n",
       "    <tr>\n",
       "      <th>197</th>\n",
       "      <td>198</td>\n",
       "      <td>12</td>\n",
       "      <td>-54</td>\n",
       "      <td>14</td>\n",
       "      <td>7Networks_RH_Default_pCunPCC_1</td>\n",
       "    </tr>\n",
       "    <tr>\n",
       "      <th>198</th>\n",
       "      <td>199</td>\n",
       "      <td>6</td>\n",
       "      <td>-48</td>\n",
       "      <td>30</td>\n",
       "      <td>7Networks_RH_Default_pCunPCC_2</td>\n",
       "    </tr>\n",
       "    <tr>\n",
       "      <th>199</th>\n",
       "      <td>200</td>\n",
       "      <td>6</td>\n",
       "      <td>-58</td>\n",
       "      <td>44</td>\n",
       "      <td>7Networks_RH_Default_pCunPCC_3</td>\n",
       "    </tr>\n",
       "  </tbody>\n",
       "</table>\n",
       "<p>200 rows × 5 columns</p>\n",
       "</div>"
      ],
      "text/plain": [
       "       A   B   C   D                                E\n",
       "0      1 -24 -54 -10               7Networks_LH_Vis_1\n",
       "1      2 -26 -78 -14               7Networks_LH_Vis_2\n",
       "2      3 -46 -70  -8               7Networks_LH_Vis_3\n",
       "3      4 -10 -68  -4               7Networks_LH_Vis_4\n",
       "4      5 -26 -96 -12               7Networks_LH_Vis_5\n",
       "..   ...  ..  ..  ..                              ...\n",
       "195  196  28  30  42  7Networks_RH_Default_PFCdPFCm_6\n",
       "196  197  24  24  54  7Networks_RH_Default_PFCdPFCm_7\n",
       "197  198  12 -54  14   7Networks_RH_Default_pCunPCC_1\n",
       "198  199   6 -48  30   7Networks_RH_Default_pCunPCC_2\n",
       "199  200   6 -58  44   7Networks_RH_Default_pCunPCC_3\n",
       "\n",
       "[200 rows x 5 columns]"
      ]
     },
     "execution_count": 4,
     "metadata": {},
     "output_type": "execute_result"
    }
   ],
   "source": [
    "\n",
    "data = pd.read_csv(\"/Users/noahwaller/Downloads/schaefer/labels_schaefer200.csv\")\n",
    "df = pd.DataFrame(data)\n",
    "df"
   ]
  },
  {
   "cell_type": "code",
   "execution_count": 5,
   "metadata": {},
   "outputs": [
    {
     "name": "stdout",
     "output_type": "stream",
     "text": [
      "Data has been written to /Users/noahwaller/Downloads/schaefer/labels_schaefer200_xmlformat.txt\n"
     ]
    }
   ],
   "source": [
    "\n",
    "# Define the output file path\n",
    "output_file_path = '/Users/noahwaller/Downloads/schaefer/labels_schaefer200_xmlformat.txt'\n",
    "\n",
    "# Open the file in write mode\n",
    "with open(output_file_path, 'w') as file:\n",
    "    # Iterate over each row in the DataFrame\n",
    "    for index, row in df.iterrows():\n",
    "        # Format the string according to the specified format\n",
    "        line = f'<label index=\"{row[\"A\"]}\" x=\"{row[\"B\"]}\" y=\"{row[\"C\"]}\" z=\"{row[\"D\"]}\">{row[\"E\"]}</label>\\n'\n",
    "        # Write the formatted string to the file\n",
    "        file.write(line)\n",
    "\n",
    "print(f\"Data has been written to {output_file_path}\")"
   ]
  }
 ],
 "metadata": {
  "kernelspec": {
   "display_name": "erdos_sp_2024",
   "language": "python",
   "name": "python3"
  },
  "language_info": {
   "codemirror_mode": {
    "name": "ipython",
    "version": 3
   },
   "file_extension": ".py",
   "mimetype": "text/x-python",
   "name": "python",
   "nbconvert_exporter": "python",
   "pygments_lexer": "ipython3",
   "version": "3.11.7"
  }
 },
 "nbformat": 4,
 "nbformat_minor": 2
}
